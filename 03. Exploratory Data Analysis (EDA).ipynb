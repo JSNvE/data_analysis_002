{
 "cells": [
  {
   "cell_type": "code",
   "execution_count": 1,
   "id": "ece83954",
   "metadata": {},
   "outputs": [],
   "source": [
    "import pandas as pd\n",
    "import numpy as np\n",
    "import matplotlib.pyplot as plt\n",
    "import seaborn as sns"
   ]
  },
  {
   "cell_type": "code",
   "execution_count": 2,
   "id": "03eca3b1",
   "metadata": {},
   "outputs": [
    {
     "data": {
      "text/html": [
       "<div>\n",
       "<style scoped>\n",
       "    .dataframe tbody tr th:only-of-type {\n",
       "        vertical-align: middle;\n",
       "    }\n",
       "\n",
       "    .dataframe tbody tr th {\n",
       "        vertical-align: top;\n",
       "    }\n",
       "\n",
       "    .dataframe thead th {\n",
       "        text-align: right;\n",
       "    }\n",
       "</style>\n",
       "<table border=\"1\" class=\"dataframe\">\n",
       "  <thead>\n",
       "    <tr style=\"text-align: right;\">\n",
       "      <th></th>\n",
       "      <th>Unnamed: 0</th>\n",
       "      <th>Books</th>\n",
       "      <th>Authors</th>\n",
       "      <th>Language</th>\n",
       "      <th>First_Published</th>\n",
       "      <th>Sales_in_millions</th>\n",
       "    </tr>\n",
       "  </thead>\n",
       "  <tbody>\n",
       "    <tr>\n",
       "      <th>0</th>\n",
       "      <td>0</td>\n",
       "      <td>A Tale of Two Cities</td>\n",
       "      <td>Charles Dickens</td>\n",
       "      <td>English</td>\n",
       "      <td>1859</td>\n",
       "      <td>200.0</td>\n",
       "    </tr>\n",
       "    <tr>\n",
       "      <th>1</th>\n",
       "      <td>1</td>\n",
       "      <td>The Little Prince (Le Petit Prince)</td>\n",
       "      <td>Antoine de Saint-Exupéry</td>\n",
       "      <td>French</td>\n",
       "      <td>1943</td>\n",
       "      <td>200.0</td>\n",
       "    </tr>\n",
       "    <tr>\n",
       "      <th>2</th>\n",
       "      <td>2</td>\n",
       "      <td>Harry Potter and the Philosopher's Stone</td>\n",
       "      <td>J. K. Rowling</td>\n",
       "      <td>English</td>\n",
       "      <td>1997</td>\n",
       "      <td>120.0</td>\n",
       "    </tr>\n",
       "    <tr>\n",
       "      <th>3</th>\n",
       "      <td>3</td>\n",
       "      <td>And Then There Were None</td>\n",
       "      <td>Agatha Christie</td>\n",
       "      <td>English</td>\n",
       "      <td>1939</td>\n",
       "      <td>100.0</td>\n",
       "    </tr>\n",
       "    <tr>\n",
       "      <th>4</th>\n",
       "      <td>4</td>\n",
       "      <td>Dream of the Red Chamber (紅樓夢)</td>\n",
       "      <td>Cao Xueqin</td>\n",
       "      <td>Chinese</td>\n",
       "      <td>1791</td>\n",
       "      <td>100.0</td>\n",
       "    </tr>\n",
       "  </tbody>\n",
       "</table>\n",
       "</div>"
      ],
      "text/plain": [
       "   Unnamed: 0                                     Books  \\\n",
       "0           0                      A Tale of Two Cities   \n",
       "1           1       The Little Prince (Le Petit Prince)   \n",
       "2           2  Harry Potter and the Philosopher's Stone   \n",
       "3           3                  And Then There Were None   \n",
       "4           4            Dream of the Red Chamber (紅樓夢)   \n",
       "\n",
       "                    Authors Language First_Published  Sales_in_millions  \n",
       "0           Charles Dickens  English            1859              200.0  \n",
       "1  Antoine de Saint-Exupéry   French            1943              200.0  \n",
       "2             J. K. Rowling  English            1997              120.0  \n",
       "3           Agatha Christie  English            1939              100.0  \n",
       "4                Cao Xueqin  Chinese            1791              100.0  "
      ]
     },
     "execution_count": 2,
     "metadata": {},
     "output_type": "execute_result"
    }
   ],
   "source": [
    "df = pd.read_csv(r\"C:\\Users\\Gebruiker\\Desktop\\Data Analysis\\Portfolio Projects\\03. books_data.csv\")\n",
    "df.head()"
   ]
  },
  {
   "cell_type": "code",
   "execution_count": 19,
   "id": "c42170db",
   "metadata": {},
   "outputs": [
    {
     "data": {
      "text/html": [
       "<div>\n",
       "<style scoped>\n",
       "    .dataframe tbody tr th:only-of-type {\n",
       "        vertical-align: middle;\n",
       "    }\n",
       "\n",
       "    .dataframe tbody tr th {\n",
       "        vertical-align: top;\n",
       "    }\n",
       "\n",
       "    .dataframe thead th {\n",
       "        text-align: right;\n",
       "    }\n",
       "</style>\n",
       "<table border=\"1\" class=\"dataframe\">\n",
       "  <thead>\n",
       "    <tr style=\"text-align: right;\">\n",
       "      <th></th>\n",
       "      <th>Books</th>\n",
       "      <th>Authors</th>\n",
       "      <th>Language</th>\n",
       "      <th>First_Published</th>\n",
       "      <th>Sales_in_millions</th>\n",
       "    </tr>\n",
       "    <tr>\n",
       "      <th>Unnamed: 0</th>\n",
       "      <th></th>\n",
       "      <th></th>\n",
       "      <th></th>\n",
       "      <th></th>\n",
       "      <th></th>\n",
       "    </tr>\n",
       "  </thead>\n",
       "  <tbody>\n",
       "    <tr>\n",
       "      <th>0</th>\n",
       "      <td>A Tale of Two Cities</td>\n",
       "      <td>Charles Dickens</td>\n",
       "      <td>English</td>\n",
       "      <td>1859</td>\n",
       "      <td>200.0</td>\n",
       "    </tr>\n",
       "    <tr>\n",
       "      <th>1</th>\n",
       "      <td>The Little Prince (Le Petit Prince)</td>\n",
       "      <td>Antoine de Saint-Exupéry</td>\n",
       "      <td>French</td>\n",
       "      <td>1943</td>\n",
       "      <td>200.0</td>\n",
       "    </tr>\n",
       "    <tr>\n",
       "      <th>2</th>\n",
       "      <td>Harry Potter and the Philosopher's Stone</td>\n",
       "      <td>J. K. Rowling</td>\n",
       "      <td>English</td>\n",
       "      <td>1997</td>\n",
       "      <td>120.0</td>\n",
       "    </tr>\n",
       "    <tr>\n",
       "      <th>3</th>\n",
       "      <td>And Then There Were None</td>\n",
       "      <td>Agatha Christie</td>\n",
       "      <td>English</td>\n",
       "      <td>1939</td>\n",
       "      <td>100.0</td>\n",
       "    </tr>\n",
       "    <tr>\n",
       "      <th>4</th>\n",
       "      <td>Dream of the Red Chamber (紅樓夢)</td>\n",
       "      <td>Cao Xueqin</td>\n",
       "      <td>Chinese</td>\n",
       "      <td>1791</td>\n",
       "      <td>100.0</td>\n",
       "    </tr>\n",
       "    <tr>\n",
       "      <th>...</th>\n",
       "      <td>...</td>\n",
       "      <td>...</td>\n",
       "      <td>...</td>\n",
       "      <td>...</td>\n",
       "      <td>...</td>\n",
       "    </tr>\n",
       "    <tr>\n",
       "      <th>285</th>\n",
       "      <td>The No. 1 Ladies Detective Agency</td>\n",
       "      <td>Alexander McCall Smith</td>\n",
       "      <td>English</td>\n",
       "      <td>1999–present</td>\n",
       "      <td>15.0</td>\n",
       "    </tr>\n",
       "    <tr>\n",
       "      <th>286</th>\n",
       "      <td>Der Regenbogenfisch (Rainbow Fish)</td>\n",
       "      <td>Marcus Pfister</td>\n",
       "      <td>German</td>\n",
       "      <td>1992–present</td>\n",
       "      <td>15.0</td>\n",
       "    </tr>\n",
       "    <tr>\n",
       "      <th>287</th>\n",
       "      <td>The Riftwar Cycle</td>\n",
       "      <td>Raymond E. Feist</td>\n",
       "      <td>English</td>\n",
       "      <td>1982–present</td>\n",
       "      <td>15.0</td>\n",
       "    </tr>\n",
       "    <tr>\n",
       "      <th>288</th>\n",
       "      <td>The Thrawn trilogy</td>\n",
       "      <td>Timothy Zahn</td>\n",
       "      <td>English</td>\n",
       "      <td>1991–93</td>\n",
       "      <td>15.0</td>\n",
       "    </tr>\n",
       "    <tr>\n",
       "      <th>289</th>\n",
       "      <td>Wiedźmin (The Witcher)</td>\n",
       "      <td>Andrzej Sapkowski</td>\n",
       "      <td>Polish</td>\n",
       "      <td>1990–2013</td>\n",
       "      <td>15.0</td>\n",
       "    </tr>\n",
       "  </tbody>\n",
       "</table>\n",
       "<p>290 rows × 5 columns</p>\n",
       "</div>"
      ],
      "text/plain": [
       "                                               Books  \\\n",
       "Unnamed: 0                                             \n",
       "0                               A Tale of Two Cities   \n",
       "1                The Little Prince (Le Petit Prince)   \n",
       "2           Harry Potter and the Philosopher's Stone   \n",
       "3                           And Then There Were None   \n",
       "4                     Dream of the Red Chamber (紅樓夢)   \n",
       "...                                              ...   \n",
       "285                The No. 1 Ladies Detective Agency   \n",
       "286               Der Regenbogenfisch (Rainbow Fish)   \n",
       "287                                The Riftwar Cycle   \n",
       "288                               The Thrawn trilogy   \n",
       "289                           Wiedźmin (The Witcher)   \n",
       "\n",
       "                             Authors Language First_Published  \\\n",
       "Unnamed: 0                                                      \n",
       "0                    Charles Dickens  English            1859   \n",
       "1           Antoine de Saint-Exupéry   French            1943   \n",
       "2                      J. K. Rowling  English            1997   \n",
       "3                    Agatha Christie  English            1939   \n",
       "4                         Cao Xueqin  Chinese            1791   \n",
       "...                              ...      ...             ...   \n",
       "285           Alexander McCall Smith  English    1999–present   \n",
       "286                   Marcus Pfister   German    1992–present   \n",
       "287                 Raymond E. Feist  English    1982–present   \n",
       "288                     Timothy Zahn  English         1991–93   \n",
       "289                Andrzej Sapkowski   Polish       1990–2013   \n",
       "\n",
       "            Sales_in_millions  \n",
       "Unnamed: 0                     \n",
       "0                       200.0  \n",
       "1                       200.0  \n",
       "2                       120.0  \n",
       "3                       100.0  \n",
       "4                       100.0  \n",
       "...                       ...  \n",
       "285                      15.0  \n",
       "286                      15.0  \n",
       "287                      15.0  \n",
       "288                      15.0  \n",
       "289                      15.0  \n",
       "\n",
       "[290 rows x 5 columns]"
      ]
     },
     "execution_count": 19,
     "metadata": {},
     "output_type": "execute_result"
    }
   ],
   "source": [
    "# The second index is unnecessary\n",
    "\n",
    "df.set_index(['Unnamed: 0'], inplace=True)\n",
    "df"
   ]
  },
  {
   "cell_type": "code",
   "execution_count": 20,
   "id": "e178cea9",
   "metadata": {},
   "outputs": [
    {
     "name": "stdout",
     "output_type": "stream",
     "text": [
      "(290, 5)\n",
      "<class 'pandas.core.frame.DataFrame'>\n",
      "Int64Index: 290 entries, 0 to 289\n",
      "Data columns (total 5 columns):\n",
      " #   Column             Non-Null Count  Dtype  \n",
      "---  ------             --------------  -----  \n",
      " 0   Books              290 non-null    object \n",
      " 1   Authors            290 non-null    object \n",
      " 2   Language           290 non-null    object \n",
      " 3   First_Published    290 non-null    object \n",
      " 4   Sales_in_millions  288 non-null    float64\n",
      "dtypes: float64(1), object(4)\n",
      "memory usage: 13.6+ KB\n",
      "None\n"
     ]
    }
   ],
   "source": [
    "# Let's have a look at the data\n",
    "\n",
    "print(df.shape)\n",
    "print(df.info())"
   ]
  },
  {
   "cell_type": "code",
   "execution_count": 35,
   "id": "35fb6bf3",
   "metadata": {},
   "outputs": [
    {
     "data": {
      "text/html": [
       "<div>\n",
       "<style scoped>\n",
       "    .dataframe tbody tr th:only-of-type {\n",
       "        vertical-align: middle;\n",
       "    }\n",
       "\n",
       "    .dataframe tbody tr th {\n",
       "        vertical-align: top;\n",
       "    }\n",
       "\n",
       "    .dataframe thead th {\n",
       "        text-align: right;\n",
       "    }\n",
       "</style>\n",
       "<table border=\"1\" class=\"dataframe\">\n",
       "  <thead>\n",
       "    <tr style=\"text-align: right;\">\n",
       "      <th></th>\n",
       "      <th>Sales_in_millions</th>\n",
       "    </tr>\n",
       "  </thead>\n",
       "  <tbody>\n",
       "    <tr>\n",
       "      <th>count</th>\n",
       "      <td>288.000000</td>\n",
       "    </tr>\n",
       "    <tr>\n",
       "      <th>mean</th>\n",
       "      <td>49.996875</td>\n",
       "    </tr>\n",
       "    <tr>\n",
       "      <th>std</th>\n",
       "      <td>64.684632</td>\n",
       "    </tr>\n",
       "    <tr>\n",
       "      <th>min</th>\n",
       "      <td>10.000000</td>\n",
       "    </tr>\n",
       "    <tr>\n",
       "      <th>25%</th>\n",
       "      <td>16.000000</td>\n",
       "    </tr>\n",
       "    <tr>\n",
       "      <th>50%</th>\n",
       "      <td>25.000000</td>\n",
       "    </tr>\n",
       "    <tr>\n",
       "      <th>75%</th>\n",
       "      <td>50.000000</td>\n",
       "    </tr>\n",
       "    <tr>\n",
       "      <th>max</th>\n",
       "      <td>600.000000</td>\n",
       "    </tr>\n",
       "  </tbody>\n",
       "</table>\n",
       "</div>"
      ],
      "text/plain": [
       "       Sales_in_millions\n",
       "count         288.000000\n",
       "mean           49.996875\n",
       "std            64.684632\n",
       "min            10.000000\n",
       "25%            16.000000\n",
       "50%            25.000000\n",
       "75%            50.000000\n",
       "max           600.000000"
      ]
     },
     "execution_count": 35,
     "metadata": {},
     "output_type": "execute_result"
    }
   ],
   "source": [
    "df.describe()"
   ]
  },
  {
   "cell_type": "code",
   "execution_count": 22,
   "id": "e991b739",
   "metadata": {},
   "outputs": [
    {
     "data": {
      "text/plain": [
       "Books                0\n",
       "Authors              0\n",
       "Language             0\n",
       "First_Published      0\n",
       "Sales_in_millions    2\n",
       "dtype: int64"
      ]
     },
     "execution_count": 22,
     "metadata": {},
     "output_type": "execute_result"
    }
   ],
   "source": [
    "df.isnull().sum()"
   ]
  },
  {
   "cell_type": "code",
   "execution_count": 26,
   "id": "18a1bb12",
   "metadata": {},
   "outputs": [
    {
     "data": {
      "text/plain": [
       "array([200. , 120. , 100. ,  83. ,  80. ,  77. ,  65. ,  60. ,  50. ,\n",
       "        45. ,  44. ,  43. ,  40. ,  39. ,  35. ,  37. ,  36.4,  36. ,\n",
       "        33. ,  31.5,  31. ,  30. ,  29. ,  28. ,  26. ,  25. ,  24. ,\n",
       "        23. ,  22.5,  21. ,  20. ,  18. ,  17. ,  16. ,  15.3,  15.2,\n",
       "        15. ,  14. ,  13. ,  12.1,  12. ,  11. ,  10.5,  10.4,  10. ,\n",
       "       600. , 400. , 300. , 275. , 260. , 250. , 201. , 180. , 172. ,\n",
       "       160. , 150. , 130. , 129. , 125. ,  90. ,  85. ,  81. ,  75. ,\n",
       "        70. ,  58. ,  55. ,  42. ,  36.5,  33.6,  32. ,  27. ,  24.4,\n",
       "        23.7,  22. ,  21.5,   nan,  19. ])"
      ]
     },
     "execution_count": 26,
     "metadata": {},
     "output_type": "execute_result"
    }
   ],
   "source": [
    "df['Sales_in_millions'].unique()"
   ]
  },
  {
   "cell_type": "code",
   "execution_count": 39,
   "id": "5bbe48e5",
   "metadata": {},
   "outputs": [
    {
     "data": {
      "text/plain": [
       "<function matplotlib.pyplot.show(close=None, block=None)>"
      ]
     },
     "execution_count": 39,
     "metadata": {},
     "output_type": "execute_result"
    },
    {
     "data": {
      "image/png": "[encoded data removed]",
      "text/plain": [
       "<Figure size 640x480 with 1 Axes>"
      ]
     },
     "metadata": {},
     "output_type": "display_data"
    }
   ],
   "source": [
    "sns.histplot(df['Sales_in_millions'], bins=10)\n",
    "plt.show"
   ]
  },
  {
   "cell_type": "code",
   "execution_count": 31,
   "id": "140df149",
   "metadata": {},
   "outputs": [
    {
     "data": {
      "image/png": "[encoded data removed]",
      "text/plain": [
       "<Figure size 640x480 with 1 Axes>"
      ]
     },
     "metadata": {},
     "output_type": "display_data"
    }
   ],
   "source": [
    "sns.boxplot(x='Sales_in_millions', y='Language', data=df)\n",
    "plt.show()"
   ]
  },
  {
   "cell_type": "code",
   "execution_count": 54,
   "id": "8072d479",
   "metadata": {},
   "outputs": [
    {
     "data": {
      "image/png": "[encoded data removed]",
      "text/plain": [
       "<Figure size 640x480 with 1 Axes>"
      ]
     },
     "metadata": {},
     "output_type": "display_data"
    }
   ],
   "source": [
    "# Let's isolate the English books and look at the Sales_in_millions\n",
    "\n",
    "df_eng = df.loc[(df['Language']=='English')]\n",
    "\n",
    "sns.boxplot(x='Sales_in_millions', data=df_eng)\n",
    "plt.show()"
   ]
  },
  {
   "cell_type": "code",
   "execution_count": null,
   "id": "94bd4949",
   "metadata": {},
   "outputs": [],
   "source": [
    "# Which author sold the most books?\n",
    "# Which author made the most Millions?"
   ]
  },
  {
   "cell_type": "code",
   "execution_count": null,
   "id": "6c40fc85",
   "metadata": {},
   "outputs": [],
   "source": []
  },
  {
   "cell_type": "code",
   "execution_count": null,
   "id": "6510b162",
   "metadata": {},
   "outputs": [],
   "source": []
  },
  {
   "cell_type": "code",
   "execution_count": null,
   "id": "b65e7fdd",
   "metadata": {},
   "outputs": [],
   "source": []
  },
  {
   "cell_type": "code",
   "execution_count": null,
   "id": "a65a9a74",
   "metadata": {},
   "outputs": [],
   "source": []
  },
  {
   "cell_type": "code",
   "execution_count": null,
   "id": "4dc575d9",
   "metadata": {},
   "outputs": [],
   "source": []
  }
 ],
 "metadata": {
  "kernelspec": {
   "display_name": "Python 3 (ipykernel)",
   "language": "python",
   "name": "python3"
  },
  "language_info": {
   "codemirror_mode": {
    "name": "ipython",
    "version": 3
   },
   "file_extension": ".py",
   "mimetype": "text/x-python",
   "name": "python",
   "nbconvert_exporter": "python",
   "pygments_lexer": "ipython3",
   "version": "3.10.9"
  }
 },
 "nbformat": 4,
 "nbformat_minor": 5
}
